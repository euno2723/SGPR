{
 "cells": [
  {
   "cell_type": "markdown",
   "id": "ee5659cd-9c11-42a2-bbc5-c5ff0c123c12",
   "metadata": {},
   "source": [
    "# 0. ライブラリ等のインポート"
   ]
  },
  {
   "cell_type": "code",
   "execution_count": 25,
   "id": "b94a1b81-61f3-41ff-b24a-61289dbbdac6",
   "metadata": {
    "tags": []
   },
   "outputs": [
    {
     "ename": "ModuleNotFoundError",
     "evalue": "No module named 'GPy'",
     "output_type": "error",
     "traceback": [
      "\u001b[0;31m---------------------------------------------------------------------------\u001b[0m",
      "\u001b[0;31mModuleNotFoundError\u001b[0m                       Traceback (most recent call last)",
      "Cell \u001b[0;32mIn[25], line 7\u001b[0m\n\u001b[1;32m      5\u001b[0m get_ipython()\u001b[38;5;241m.\u001b[39mrun_line_magic(\u001b[38;5;124m'\u001b[39m\u001b[38;5;124mmatplotlib\u001b[39m\u001b[38;5;124m'\u001b[39m, \u001b[38;5;124m'\u001b[39m\u001b[38;5;124minline\u001b[39m\u001b[38;5;124m'\u001b[39m)\n\u001b[1;32m      6\u001b[0m \u001b[38;5;28;01mimport\u001b[39;00m \u001b[38;5;21;01mpods\u001b[39;00m\n\u001b[0;32m----> 7\u001b[0m \u001b[38;5;28;01mimport\u001b[39;00m \u001b[38;5;21;01mGPy\u001b[39;00m\n",
      "\u001b[0;31mModuleNotFoundError\u001b[0m: No module named 'GPy'"
     ]
    }
   ],
   "source": [
    "import numpy as np\n",
    "import pandas as pd\n",
    "import seaborn as sns\n",
    "import matplotlib as plt\n",
    "%matplotlib inline\n",
    "import pods\n",
    "import GPy"
   ]
  },
  {
   "cell_type": "code",
   "execution_count": 4,
   "id": "ed6c305b-2b6a-4d7b-bc98-bda6c02a339c",
   "metadata": {
    "tags": []
   },
   "outputs": [],
   "source": [
    "np.random.seed(seed=1)"
   ]
  },
  {
   "cell_type": "code",
   "execution_count": null,
   "id": "34d31462-7b21-4e67-9233-d746e5af8055",
   "metadata": {},
   "outputs": [],
   "source": [
    "def sparse_GP_regression_1D(\n",
    "    num_samples=400,\n",
    "    num_inducing=5,\n",
    "    max_iters=100,\n",
    "    optimize=True,\n",
    "    plot=True,\n",
    "    checkgrad=False,\n",
    "):\n",
    "    \"\"\"Run a 1D example of a sparse GP regression.\"\"\"\n",
    "    # sample inputs and outputs\n",
    "    X = np.random.uniform(-3.0, 3.0, (num_samples, 1))\n",
    "    Y = np.sin(X) + np.random.randn(num_samples, 1) * 0.05\n",
    "    # construct kernel\n",
    "    rbf = GPy.kern.RBF(1)\n",
    "    # create simple GP Model\n",
    "    m = GPy.models.SparseGPRegression(X, Y, kernel=rbf, num_inducing=num_inducing)\n",
    "\n",
    "    if checkgrad:\n",
    "        m.checkgrad()\n",
    "\n",
    "    if optimize:\n",
    "        m.optimize(\"tnc\", max_iters=max_iters)\n",
    "\n",
    "    if MPL_AVAILABLE and plot:\n",
    "        m.plot()\n",
    "\n",
    "    return m"
   ]
  },
  {
   "cell_type": "code",
   "execution_count": 23,
   "id": "195db773-f96b-46ec-ace8-64f87fea417e",
   "metadata": {
    "tags": []
   },
   "outputs": [
    {
     "data": {
      "text/html": [
       "<div>\n",
       "<style scoped>\n",
       "    .dataframe tbody tr th:only-of-type {\n",
       "        vertical-align: middle;\n",
       "    }\n",
       "\n",
       "    .dataframe tbody tr th {\n",
       "        vertical-align: top;\n",
       "    }\n",
       "\n",
       "    .dataframe thead th {\n",
       "        text-align: right;\n",
       "    }\n",
       "</style>\n",
       "<table border=\"1\" class=\"dataframe\">\n",
       "  <thead>\n",
       "    <tr style=\"text-align: right;\">\n",
       "      <th></th>\n",
       "      <th>0</th>\n",
       "      <th>1</th>\n",
       "      <th>2</th>\n",
       "      <th>3</th>\n",
       "      <th>4</th>\n",
       "      <th>5</th>\n",
       "      <th>6</th>\n",
       "      <th>7</th>\n",
       "      <th>8</th>\n",
       "      <th>9</th>\n",
       "      <th>...</th>\n",
       "      <th>390</th>\n",
       "      <th>391</th>\n",
       "      <th>392</th>\n",
       "      <th>393</th>\n",
       "      <th>394</th>\n",
       "      <th>395</th>\n",
       "      <th>396</th>\n",
       "      <th>397</th>\n",
       "      <th>398</th>\n",
       "      <th>399</th>\n",
       "    </tr>\n",
       "  </thead>\n",
       "  <tbody>\n",
       "    <tr>\n",
       "      <th>X</th>\n",
       "      <td>2.514731</td>\n",
       "      <td>-1.985337</td>\n",
       "      <td>2.579090</td>\n",
       "      <td>-2.095061</td>\n",
       "      <td>-2.186443</td>\n",
       "      <td>2.972823</td>\n",
       "      <td>2.057142</td>\n",
       "      <td>1.082063</td>\n",
       "      <td>2.060976</td>\n",
       "      <td>-2.749916</td>\n",
       "      <td>...</td>\n",
       "      <td>-2.741786</td>\n",
       "      <td>1.992482</td>\n",
       "      <td>-0.502841</td>\n",
       "      <td>-2.074415</td>\n",
       "      <td>-0.982768</td>\n",
       "      <td>1.929307</td>\n",
       "      <td>1.173080</td>\n",
       "      <td>-1.376349</td>\n",
       "      <td>2.041923</td>\n",
       "      <td>-2.570128</td>\n",
       "    </tr>\n",
       "    <tr>\n",
       "      <th>Y</th>\n",
       "      <td>0.660830</td>\n",
       "      <td>-1.024379</td>\n",
       "      <td>0.489868</td>\n",
       "      <td>-0.818868</td>\n",
       "      <td>-0.858369</td>\n",
       "      <td>0.180841</td>\n",
       "      <td>0.898780</td>\n",
       "      <td>0.898460</td>\n",
       "      <td>0.874070</td>\n",
       "      <td>-0.394957</td>\n",
       "      <td>...</td>\n",
       "      <td>-0.391970</td>\n",
       "      <td>0.901422</td>\n",
       "      <td>-0.578287</td>\n",
       "      <td>-0.839590</td>\n",
       "      <td>-0.761336</td>\n",
       "      <td>0.948602</td>\n",
       "      <td>0.924404</td>\n",
       "      <td>-1.001533</td>\n",
       "      <td>0.902043</td>\n",
       "      <td>-0.569411</td>\n",
       "    </tr>\n",
       "  </tbody>\n",
       "</table>\n",
       "<p>2 rows × 400 columns</p>\n",
       "</div>"
      ],
      "text/plain": [
       "        0         1         2         3         4         5         6    \\\n",
       "X  2.514731 -1.985337  2.579090 -2.095061 -2.186443  2.972823  2.057142   \n",
       "Y  0.660830 -1.024379  0.489868 -0.818868 -0.858369  0.180841  0.898780   \n",
       "\n",
       "        7         8         9    ...       390       391       392       393  \\\n",
       "X  1.082063  2.060976 -2.749916  ... -2.741786  1.992482 -0.502841 -2.074415   \n",
       "Y  0.898460  0.874070 -0.394957  ... -0.391970  0.901422 -0.578287 -0.839590   \n",
       "\n",
       "        394       395       396       397       398       399  \n",
       "X -0.982768  1.929307  1.173080 -1.376349  2.041923 -2.570128  \n",
       "Y -0.761336  0.948602  0.924404 -1.001533  0.902043 -0.569411  \n",
       "\n",
       "[2 rows x 400 columns]"
      ]
     },
     "execution_count": 23,
     "metadata": {},
     "output_type": "execute_result"
    }
   ],
   "source": [
    "X = np.random.uniform(-3.0, 3.0, (400, 1))\n",
    "Y = np.sin(X) + np.random.randn(400, 1) * 0.05\n",
    "\n",
    "pd.concat([pd.DataFrame(X.T, index=[\"X\"]), pd.DataFrame(Y.T, index=[\"Y\"])], axis=0)"
   ]
  },
  {
   "cell_type": "code",
   "execution_count": null,
   "id": "86381e95-ef7c-4d24-a9d3-e5b6d778e3af",
   "metadata": {},
   "outputs": [],
   "source": [
    "k = GPy.kern.RBF(input_dim=1,\n",
    "                variance=1.)"
   ]
  },
  {
   "cell_type": "code",
   "execution_count": 24,
   "id": "d8abed9c-3d95-42a4-8deb-51aed61ece6c",
   "metadata": {
    "tags": []
   },
   "outputs": [
    {
     "ename": "NameError",
     "evalue": "name 'GPy' is not defined",
     "output_type": "error",
     "traceback": [
      "\u001b[0;31m---------------------------------------------------------------------------\u001b[0m",
      "\u001b[0;31mNameError\u001b[0m                                 Traceback (most recent call last)",
      "Cell \u001b[0;32mIn[24], line 1\u001b[0m\n\u001b[0;32m----> 1\u001b[0m \u001b[43mGPy\u001b[49m\u001b[38;5;241m.\u001b[39mkern\u001b[38;5;241m.\u001b[39mRBF(\u001b[38;5;241m1\u001b[39m)\n",
      "\u001b[0;31mNameError\u001b[0m: name 'GPy' is not defined"
     ]
    }
   ],
   "source": [
    "GPy.kern.RBF(1)"
   ]
  },
  {
   "cell_type": "code",
   "execution_count": null,
   "id": "5f1016a5-2ed9-4ad6-a529-c02e84d4a950",
   "metadata": {},
   "outputs": [],
   "source": []
  },
  {
   "cell_type": "code",
   "execution_count": null,
   "id": "eef38c32-b2d0-4fab-90d4-ac67b1d37f60",
   "metadata": {},
   "outputs": [],
   "source": []
  },
  {
   "cell_type": "code",
   "execution_count": null,
   "id": "3545bb7f-7545-456f-a64d-31c8a9c541e8",
   "metadata": {},
   "outputs": [],
   "source": []
  },
  {
   "cell_type": "code",
   "execution_count": null,
   "id": "bda0f9ef-e387-4a96-8e24-a58c313aeaaf",
   "metadata": {},
   "outputs": [],
   "source": []
  },
  {
   "cell_type": "code",
   "execution_count": null,
   "id": "87dd91a4-59c8-4c72-9912-2a89f29af5da",
   "metadata": {},
   "outputs": [],
   "source": []
  },
  {
   "cell_type": "code",
   "execution_count": null,
   "id": "c3fbedf0-96f7-4066-a196-ddcb68f62efb",
   "metadata": {},
   "outputs": [],
   "source": []
  },
  {
   "cell_type": "code",
   "execution_count": null,
   "id": "ac781a3b-b2cf-4eb3-ac73-d820c96af0a1",
   "metadata": {},
   "outputs": [],
   "source": []
  },
  {
   "cell_type": "code",
   "execution_count": null,
   "id": "9a0bcc8f-8b2b-44f3-a5e6-fc56bb365303",
   "metadata": {},
   "outputs": [],
   "source": []
  },
  {
   "cell_type": "code",
   "execution_count": null,
   "id": "83a94a6a-d1b9-4cfb-8e7d-3ed9c45c5e22",
   "metadata": {},
   "outputs": [],
   "source": []
  },
  {
   "cell_type": "code",
   "execution_count": null,
   "id": "f2c062bd-bd11-4a13-b100-6997950285b1",
   "metadata": {},
   "outputs": [],
   "source": []
  }
 ],
 "metadata": {
  "kernelspec": {
   "display_name": "Python 3 (ipykernel)",
   "language": "python",
   "name": "python3"
  },
  "language_info": {
   "codemirror_mode": {
    "name": "ipython",
    "version": 3
   },
   "file_extension": ".py",
   "mimetype": "text/x-python",
   "name": "python",
   "nbconvert_exporter": "python",
   "pygments_lexer": "ipython3",
   "version": "3.9.16"
  }
 },
 "nbformat": 4,
 "nbformat_minor": 5
}
