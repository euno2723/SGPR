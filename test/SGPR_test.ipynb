{
 "cells": [
  {
   "cell_type": "markdown",
   "id": "ee5659cd-9c11-42a2-bbc5-c5ff0c123c12",
   "metadata": {},
   "source": [
    "# 0. ライブラリ等のインポート"
   ]
  },
  {
   "cell_type": "code",
   "execution_count": 26,
   "id": "b94a1b81-61f3-41ff-b24a-61289dbbdac6",
   "metadata": {
    "tags": []
   },
   "outputs": [],
   "source": [
    "import numpy as np\n",
    "import pandas as pd\n",
    "import seaborn as sns\n",
    "import matplotlib as plt\n",
    "%matplotlib inline\n",
    "import pods\n",
    "import GPy"
   ]
  },
  {
   "cell_type": "code",
   "execution_count": 27,
   "id": "ed6c305b-2b6a-4d7b-bc98-bda6c02a339c",
   "metadata": {
    "tags": []
   },
   "outputs": [],
   "source": [
    "np.random.seed(seed=1)"
   ]
  },
  {
   "cell_type": "code",
   "execution_count": null,
   "id": "34d31462-7b21-4e67-9233-d746e5af8055",
   "metadata": {},
   "outputs": [],
   "source": [
    "def sparse_GP_regression_1D(\n",
    "    num_samples=400,\n",
    "    num_inducing=5,\n",
    "    max_iters=100,\n",
    "    optimize=True,\n",
    "    plot=True,\n",
    "    checkgrad=False,\n",
    "):\n",
    "    \"\"\"Run a 1D example of a sparse GP regression.\"\"\"\n",
    "    # sample inputs and outputs\n",
    "    X = np.random.uniform(-3.0, 3.0, (num_samples, 1))\n",
    "    Y = np.sin(X) + np.random.randn(num_samples, 1) * 0.05\n",
    "    # construct kernel\n",
    "    rbf = GPy.kern.RBF(1)\n",
    "    # create simple GP Model\n",
    "    m = GPy.models.SparseGPRegression(X, Y, kernel=rbf, num_inducing=num_inducing)\n",
    "\n",
    "    if checkgrad:\n",
    "        m.checkgrad()\n",
    "\n",
    "    if optimize:\n",
    "        m.optimize(\"tnc\", max_iters=max_iters)\n",
    "\n",
    "    if MPL_AVAILABLE and plot:\n",
    "        m.plot()\n",
    "\n",
    "    return m"
   ]
  },
  {
   "cell_type": "code",
   "execution_count": 28,
   "id": "195db773-f96b-46ec-ace8-64f87fea417e",
   "metadata": {
    "tags": []
   },
   "outputs": [
    {
     "data": {
      "text/html": [
       "<div>\n",
       "<style scoped>\n",
       "    .dataframe tbody tr th:only-of-type {\n",
       "        vertical-align: middle;\n",
       "    }\n",
       "\n",
       "    .dataframe tbody tr th {\n",
       "        vertical-align: top;\n",
       "    }\n",
       "\n",
       "    .dataframe thead th {\n",
       "        text-align: right;\n",
       "    }\n",
       "</style>\n",
       "<table border=\"1\" class=\"dataframe\">\n",
       "  <thead>\n",
       "    <tr style=\"text-align: right;\">\n",
       "      <th></th>\n",
       "      <th>0</th>\n",
       "      <th>1</th>\n",
       "      <th>2</th>\n",
       "      <th>3</th>\n",
       "      <th>4</th>\n",
       "      <th>5</th>\n",
       "      <th>6</th>\n",
       "      <th>7</th>\n",
       "      <th>8</th>\n",
       "      <th>9</th>\n",
       "      <th>...</th>\n",
       "      <th>390</th>\n",
       "      <th>391</th>\n",
       "      <th>392</th>\n",
       "      <th>393</th>\n",
       "      <th>394</th>\n",
       "      <th>395</th>\n",
       "      <th>396</th>\n",
       "      <th>397</th>\n",
       "      <th>398</th>\n",
       "      <th>399</th>\n",
       "    </tr>\n",
       "  </thead>\n",
       "  <tbody>\n",
       "    <tr>\n",
       "      <th>X</th>\n",
       "      <td>-0.497868</td>\n",
       "      <td>1.321947</td>\n",
       "      <td>-2.999314</td>\n",
       "      <td>-1.186005</td>\n",
       "      <td>-2.119465</td>\n",
       "      <td>-2.445968</td>\n",
       "      <td>-1.882439</td>\n",
       "      <td>-0.926636</td>\n",
       "      <td>-0.619395</td>\n",
       "      <td>0.232900</td>\n",
       "      <td>...</td>\n",
       "      <td>-1.728239</td>\n",
       "      <td>1.791625</td>\n",
       "      <td>-1.216012</td>\n",
       "      <td>-2.834364</td>\n",
       "      <td>0.560595</td>\n",
       "      <td>2.063043</td>\n",
       "      <td>-0.713903</td>\n",
       "      <td>1.499150</td>\n",
       "      <td>0.066849</td>\n",
       "      <td>0.245711</td>\n",
       "    </tr>\n",
       "    <tr>\n",
       "      <th>Y</th>\n",
       "      <td>-0.444824</td>\n",
       "      <td>0.966637</td>\n",
       "      <td>-0.178079</td>\n",
       "      <td>-0.970265</td>\n",
       "      <td>-0.860019</td>\n",
       "      <td>-0.680728</td>\n",
       "      <td>-0.937697</td>\n",
       "      <td>-0.840909</td>\n",
       "      <td>-0.549489</td>\n",
       "      <td>0.278607</td>\n",
       "      <td>...</td>\n",
       "      <td>-1.055066</td>\n",
       "      <td>1.040843</td>\n",
       "      <td>-0.955852</td>\n",
       "      <td>-0.376676</td>\n",
       "      <td>0.502067</td>\n",
       "      <td>0.766028</td>\n",
       "      <td>-0.656380</td>\n",
       "      <td>1.003059</td>\n",
       "      <td>0.081203</td>\n",
       "      <td>0.318151</td>\n",
       "    </tr>\n",
       "  </tbody>\n",
       "</table>\n",
       "<p>2 rows × 400 columns</p>\n",
       "</div>"
      ],
      "text/plain": [
       "        0         1         2         3         4         5         6    \\\n",
       "X -0.497868  1.321947 -2.999314 -1.186005 -2.119465 -2.445968 -1.882439   \n",
       "Y -0.444824  0.966637 -0.178079 -0.970265 -0.860019 -0.680728 -0.937697   \n",
       "\n",
       "        7         8         9    ...       390       391       392       393  \\\n",
       "X -0.926636 -0.619395  0.232900  ... -1.728239  1.791625 -1.216012 -2.834364   \n",
       "Y -0.840909 -0.549489  0.278607  ... -1.055066  1.040843 -0.955852 -0.376676   \n",
       "\n",
       "        394       395       396       397       398       399  \n",
       "X  0.560595  2.063043 -0.713903  1.499150  0.066849  0.245711  \n",
       "Y  0.502067  0.766028 -0.656380  1.003059  0.081203  0.318151  \n",
       "\n",
       "[2 rows x 400 columns]"
      ]
     },
     "execution_count": 28,
     "metadata": {},
     "output_type": "execute_result"
    }
   ],
   "source": [
    "X = np.random.uniform(-3.0, 3.0, (400, 1))\n",
    "Y = np.sin(X) + np.random.randn(400, 1) * 0.05\n",
    "\n",
    "pd.concat([pd.DataFrame(X.T, index=[\"X\"]), pd.DataFrame(Y.T, index=[\"Y\"])], axis=0)"
   ]
  },
  {
   "cell_type": "code",
   "execution_count": 32,
   "id": "86381e95-ef7c-4d24-a9d3-e5b6d778e3af",
   "metadata": {
    "tags": []
   },
   "outputs": [
    {
     "data": {
      "text/html": [
       "<style type=\"text/css\">\n",
       ".tg  {font-family:\"Courier New\", Courier, monospace !important;padding:2px 3px;word-break:normal;border-collapse:collapse;border-spacing:0;border-color:#DCDCDC;margin:0px auto;width:100%;}\n",
       ".tg td{font-family:\"Courier New\", Courier, monospace !important;font-weight:bold;color:#444;background-color:#F7FDFA;border-style:solid;border-width:1px;overflow:hidden;word-break:normal;border-color:#DCDCDC;}\n",
       ".tg th{font-family:\"Courier New\", Courier, monospace !important;font-weight:normal;color:#fff;background-color:#26ADE4;border-style:solid;border-width:1px;overflow:hidden;word-break:normal;border-color:#DCDCDC;}\n",
       ".tg .tg-left{font-family:\"Courier New\", Courier, monospace !important;font-weight:normal;text-align:left;}\n",
       ".tg .tg-center{font-family:\"Courier New\", Courier, monospace !important;font-weight:normal;text-align:center;}\n",
       ".tg .tg-right{font-family:\"Courier New\", Courier, monospace !important;font-weight:normal;text-align:right;}\n",
       "</style>\n",
       "<table class=\"tg\"><tr><th><b>  rbf.       </b></th><th><b>value</b></th><th><b>constraints</b></th><th><b>priors</b></th></tr>\n",
       "<tr><td class=tg-left>  variance   </td><td class=tg-right>  1.0</td><td class=tg-center>    +ve    </td><td class=tg-center>      </td></tr>\n",
       "<tr><td class=tg-left>  lengthscale</td><td class=tg-right>  1.0</td><td class=tg-center>    +ve    </td><td class=tg-center>      </td></tr>\n",
       "</table>"
      ],
      "text/plain": [
       "<GPy.kern.src.rbf.RBF at 0x7f6937ad8070>"
      ]
     },
     "execution_count": 32,
     "metadata": {},
     "output_type": "execute_result"
    }
   ],
   "source": [
    "k = GPy.kern.RBF(input_dim=1,\n",
    "                variance=1.,\n",
    "                lengthscale=1.)\n",
    "k"
   ]
  },
  {
   "cell_type": "code",
   "execution_count": 33,
   "id": "5f1016a5-2ed9-4ad6-a529-c02e84d4a950",
   "metadata": {
    "tags": []
   },
   "outputs": [
    {
     "data": {
      "text/html": [
       "<style type=\"text/css\">\n",
       ".pd{\n",
       "    font-family: \"Courier New\", Courier, monospace !important;\n",
       "    width: 100%;\n",
       "    padding: 3px;\n",
       "}\n",
       "</style>\n",
       "\n",
       "<p class=pd>\n",
       "<b>Model</b>: sparse_gp<br>\n",
       "<b>Objective</b>: 392.9253005098434<br>\n",
       "<b>Number of Parameters</b>: 8<br>\n",
       "<b>Number of Optimization Parameters</b>: 8<br>\n",
       "<b>Updates</b>: True<br>\n",
       "</p>\n",
       "<style type=\"text/css\">\n",
       ".tg  {font-family:\"Courier New\", Courier, monospace !important;padding:2px 3px;word-break:normal;border-collapse:collapse;border-spacing:0;border-color:#DCDCDC;margin:0px auto;width:100%;}\n",
       ".tg td{font-family:\"Courier New\", Courier, monospace !important;font-weight:bold;color:#444;background-color:#F7FDFA;border-style:solid;border-width:1px;overflow:hidden;word-break:normal;border-color:#DCDCDC;}\n",
       ".tg th{font-family:\"Courier New\", Courier, monospace !important;font-weight:normal;color:#fff;background-color:#26ADE4;border-style:solid;border-width:1px;overflow:hidden;word-break:normal;border-color:#DCDCDC;}\n",
       ".tg .tg-left{font-family:\"Courier New\", Courier, monospace !important;font-weight:normal;text-align:left;}\n",
       ".tg .tg-center{font-family:\"Courier New\", Courier, monospace !important;font-weight:normal;text-align:center;}\n",
       ".tg .tg-right{font-family:\"Courier New\", Courier, monospace !important;font-weight:normal;text-align:right;}\n",
       "</style>\n",
       "<table class=\"tg\"><tr><th><b>  sparse_gp.             </b></th><th><b> value</b></th><th><b>constraints</b></th><th><b>priors</b></th></tr>\n",
       "<tr><td class=tg-left>  inducing inputs        </td><td class=tg-right>(5, 1)</td><td class=tg-center>           </td><td class=tg-center>      </td></tr>\n",
       "<tr><td class=tg-left>  rbf.variance           </td><td class=tg-right>   1.0</td><td class=tg-center>    +ve    </td><td class=tg-center>      </td></tr>\n",
       "<tr><td class=tg-left>  rbf.lengthscale        </td><td class=tg-right>   1.0</td><td class=tg-center>    +ve    </td><td class=tg-center>      </td></tr>\n",
       "<tr><td class=tg-left>  Gaussian_noise.variance</td><td class=tg-right>   1.0</td><td class=tg-center>    +ve    </td><td class=tg-center>      </td></tr>\n",
       "</table>"
      ],
      "text/plain": [
       "<GPy.models.sparse_gp_regression.SparseGPRegression at 0x7f696c21c280>"
      ]
     },
     "execution_count": 33,
     "metadata": {},
     "output_type": "execute_result"
    }
   ],
   "source": [
    "m = GPy.models.SparseGPRegression(X,\n",
    "                                  Y,\n",
    "                                  kernel=k,\n",
    "                                  num_inducing=5)\n",
    "m"
   ]
  },
  {
   "cell_type": "code",
   "execution_count": 34,
   "id": "eef38c32-b2d0-4fab-90d4-ac67b1d37f60",
   "metadata": {
    "tags": []
   },
   "outputs": [
    {
     "data": {
      "text/html": [
       "<style type=\"text/css\">\n",
       ".tg  {padding:2px 3px;word-break:normal;border-collapse:collapse;border-spacing:0;border-color:#DCDCDC;margin:0px auto;width:100%;}\n",
       ".tg td{font-family:\"Courier New\", Courier, monospace !important;font-weight:bold;color:#444;background-color:#F7FDFA;border-style:solid;border-width:1px;overflow:hidden;word-break:normal;border-color:#DCDCDC;}\n",
       ".tg th{font-family:\"Courier New\", Courier, monospace !important;font-weight:normal;color:#fff;background-color:#26ADE4;border-style:solid;border-width:1px;overflow:hidden;word-break:normal;border-color:#DCDCDC;}\n",
       ".tg .tg-left{font-family:\"Courier New\", Courier, monospace !important;font-weight:normal;text-align:left;}\n",
       ".tg .tg-right{font-family:\"Courier New\", Courier, monospace !important;font-weight:normal;text-align:right;}\n",
       "</style>\n",
       "<table class=\"tg\">\n",
       "\n",
       "<tr>\n",
       "  <th><b>index</b></th>\n",
       "  <th><b>sparse_gp.inducing_inputs</b></th>\n",
       "  <th><b>constraints</b></th><th><b>priors</b></th>\n",
       "</tr>\n",
       "<tr><td class=tg-left>  [0 0]</td><td class=tg-right>              -2.11946466</td><td class=tg-left>           </td><td class=tg-left>      </td></tr>\n",
       "<tr><td class=tg-left>  [1 0]</td><td class=tg-right>              -0.20574073</td><td class=tg-left>           </td><td class=tg-left>      </td></tr>\n",
       "<tr><td class=tg-left>  [2 0]</td><td class=tg-right>               2.24976987</td><td class=tg-left>           </td><td class=tg-left>      </td></tr>\n",
       "<tr><td class=tg-left>  [3 0]</td><td class=tg-right>              -0.08192933</td><td class=tg-left>           </td><td class=tg-left>      </td></tr>\n",
       "<tr><td class=tg-left>  [4 0]</td><td class=tg-right>               1.95844199</td><td class=tg-left>           </td><td class=tg-left>      </td></tr>"
      ],
      "text/plain": [
       "\u001b[1msparse_gp.inducing_inputs\u001b[0;0m:\n",
       "Param([[-2.11946466],\n",
       "       [-0.20574073],\n",
       "       [ 2.24976987],\n",
       "       [-0.08192933],\n",
       "       [ 1.95844199]])"
      ]
     },
     "execution_count": 34,
     "metadata": {},
     "output_type": "execute_result"
    }
   ],
   "source": [
    "m.Z"
   ]
  },
  {
   "cell_type": "code",
   "execution_count": null,
   "id": "bda0f9ef-e387-4a96-8e24-a58c313aeaaf",
   "metadata": {},
   "outputs": [],
   "source": [
    "m."
   ]
  },
  {
   "cell_type": "code",
   "execution_count": null,
   "id": "87dd91a4-59c8-4c72-9912-2a89f29af5da",
   "metadata": {},
   "outputs": [],
   "source": []
  },
  {
   "cell_type": "code",
   "execution_count": null,
   "id": "c3fbedf0-96f7-4066-a196-ddcb68f62efb",
   "metadata": {},
   "outputs": [],
   "source": []
  },
  {
   "cell_type": "code",
   "execution_count": null,
   "id": "ac781a3b-b2cf-4eb3-ac73-d820c96af0a1",
   "metadata": {},
   "outputs": [],
   "source": []
  },
  {
   "cell_type": "code",
   "execution_count": null,
   "id": "9a0bcc8f-8b2b-44f3-a5e6-fc56bb365303",
   "metadata": {},
   "outputs": [],
   "source": []
  },
  {
   "cell_type": "code",
   "execution_count": null,
   "id": "83a94a6a-d1b9-4cfb-8e7d-3ed9c45c5e22",
   "metadata": {},
   "outputs": [],
   "source": []
  },
  {
   "cell_type": "code",
   "execution_count": null,
   "id": "f2c062bd-bd11-4a13-b100-6997950285b1",
   "metadata": {},
   "outputs": [],
   "source": []
  }
 ],
 "metadata": {
  "kernelspec": {
   "display_name": "Python 3 (ipykernel)",
   "language": "python",
   "name": "python3"
  },
  "language_info": {
   "codemirror_mode": {
    "name": "ipython",
    "version": 3
   },
   "file_extension": ".py",
   "mimetype": "text/x-python",
   "name": "python",
   "nbconvert_exporter": "python",
   "pygments_lexer": "ipython3",
   "version": "3.9.16"
  }
 },
 "nbformat": 4,
 "nbformat_minor": 5
}
