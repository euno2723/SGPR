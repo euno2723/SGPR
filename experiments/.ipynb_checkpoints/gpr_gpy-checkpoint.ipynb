{
 "cells": [
  {
   "cell_type": "code",
   "execution_count": 1,
   "id": "1ecdc61b-8ae9-4c04-9914-decb325f2da4",
   "metadata": {},
   "outputs": [],
   "source": [
    "import numpy as np\n",
    "import pandas as pd\n",
    "import GPy\n",
    "import pods"
   ]
  },
  {
   "cell_type": "code",
   "execution_count": 62,
   "id": "4b59b3d7-140c-4f1c-8d53-a0dd041d17a7",
   "metadata": {},
   "outputs": [],
   "source": [
    "np.random.seed(seed=1)"
   ]
  },
  {
   "cell_type": "code",
   "execution_count": 63,
   "id": "ab26567e-0d02-498f-b21f-f82e17872270",
   "metadata": {},
   "outputs": [],
   "source": [
    "data = pods.datasets.olympic_100m_men()\n",
    "X, Y = data[\"X\"], data[\"Y\"]\n",
    "X_pred = np.linspace(X[:,0].min() - 30,\n",
    "                     X[:,0].max() + 30,\n",
    "                     500).reshape(-1,1)"
   ]
  },
  {
   "cell_type": "code",
   "execution_count": 64,
   "id": "314b6b2a-8a43-4ad8-a0cc-e2d8d0e8c557",
   "metadata": {},
   "outputs": [
    {
     "data": {
      "text/html": [
       "<div>\n",
       "<style scoped>\n",
       "    .dataframe tbody tr th:only-of-type {\n",
       "        vertical-align: middle;\n",
       "    }\n",
       "\n",
       "    .dataframe tbody tr th {\n",
       "        vertical-align: top;\n",
       "    }\n",
       "\n",
       "    .dataframe thead th {\n",
       "        text-align: right;\n",
       "    }\n",
       "</style>\n",
       "<table border=\"1\" class=\"dataframe\">\n",
       "  <thead>\n",
       "    <tr style=\"text-align: right;\">\n",
       "      <th></th>\n",
       "      <th>0</th>\n",
       "      <th>1</th>\n",
       "      <th>2</th>\n",
       "      <th>3</th>\n",
       "      <th>4</th>\n",
       "      <th>5</th>\n",
       "      <th>6</th>\n",
       "      <th>7</th>\n",
       "      <th>8</th>\n",
       "      <th>9</th>\n",
       "      <th>...</th>\n",
       "      <th>17</th>\n",
       "      <th>18</th>\n",
       "      <th>19</th>\n",
       "      <th>20</th>\n",
       "      <th>21</th>\n",
       "      <th>22</th>\n",
       "      <th>23</th>\n",
       "      <th>24</th>\n",
       "      <th>25</th>\n",
       "      <th>26</th>\n",
       "    </tr>\n",
       "  </thead>\n",
       "  <tbody>\n",
       "    <tr>\n",
       "      <th>X</th>\n",
       "      <td>1896.0</td>\n",
       "      <td>1900.0</td>\n",
       "      <td>1904.0</td>\n",
       "      <td>1906.0</td>\n",
       "      <td>1908.0</td>\n",
       "      <td>1912.0</td>\n",
       "      <td>1920.0</td>\n",
       "      <td>1924.0</td>\n",
       "      <td>1928.0</td>\n",
       "      <td>1932.0</td>\n",
       "      <td>...</td>\n",
       "      <td>1972.00</td>\n",
       "      <td>1976.00</td>\n",
       "      <td>1980.00</td>\n",
       "      <td>1984.00</td>\n",
       "      <td>1988.00</td>\n",
       "      <td>1992.00</td>\n",
       "      <td>1996.00</td>\n",
       "      <td>2000.00</td>\n",
       "      <td>2004.00</td>\n",
       "      <td>2008.00</td>\n",
       "    </tr>\n",
       "    <tr>\n",
       "      <th>Y</th>\n",
       "      <td>12.0</td>\n",
       "      <td>11.0</td>\n",
       "      <td>11.0</td>\n",
       "      <td>11.2</td>\n",
       "      <td>10.8</td>\n",
       "      <td>10.8</td>\n",
       "      <td>10.8</td>\n",
       "      <td>10.6</td>\n",
       "      <td>10.8</td>\n",
       "      <td>10.3</td>\n",
       "      <td>...</td>\n",
       "      <td>10.14</td>\n",
       "      <td>10.06</td>\n",
       "      <td>10.25</td>\n",
       "      <td>9.99</td>\n",
       "      <td>9.92</td>\n",
       "      <td>9.96</td>\n",
       "      <td>9.84</td>\n",
       "      <td>9.87</td>\n",
       "      <td>9.85</td>\n",
       "      <td>9.69</td>\n",
       "    </tr>\n",
       "  </tbody>\n",
       "</table>\n",
       "<p>2 rows × 27 columns</p>\n",
       "</div>"
      ],
      "text/plain": [
       "       0       1       2       3       4       5       6       7       8   \\\n",
       "X  1896.0  1900.0  1904.0  1906.0  1908.0  1912.0  1920.0  1924.0  1928.0   \n",
       "Y    12.0    11.0    11.0    11.2    10.8    10.8    10.8    10.6    10.8   \n",
       "\n",
       "       9   ...       17       18       19       20       21       22       23  \\\n",
       "X  1932.0  ...  1972.00  1976.00  1980.00  1984.00  1988.00  1992.00  1996.00   \n",
       "Y    10.3  ...    10.14    10.06    10.25     9.99     9.92     9.96     9.84   \n",
       "\n",
       "        24       25       26  \n",
       "X  2000.00  2004.00  2008.00  \n",
       "Y     9.87     9.85     9.69  \n",
       "\n",
       "[2 rows x 27 columns]"
      ]
     },
     "execution_count": 64,
     "metadata": {},
     "output_type": "execute_result"
    }
   ],
   "source": [
    "pd.concat([pd.DataFrame(X.T, index=[\"X\"]), pd.DataFrame(Y.T, index=[\"Y\"])], axis=0)"
   ]
  },
  {
   "cell_type": "code",
   "execution_count": 65,
   "id": "9530bdfd-7849-4c5b-b614-eecb96a92783",
   "metadata": {},
   "outputs": [
    {
     "data": {
      "text/html": [
       "<style type=\"text/css\">\n",
       ".tg  {font-family:\"Courier New\", Courier, monospace !important;padding:2px 3px;word-break:normal;border-collapse:collapse;border-spacing:0;border-color:#DCDCDC;margin:0px auto;width:100%;}\n",
       ".tg td{font-family:\"Courier New\", Courier, monospace !important;font-weight:bold;color:#444;background-color:#F7FDFA;border-style:solid;border-width:1px;overflow:hidden;word-break:normal;border-color:#DCDCDC;}\n",
       ".tg th{font-family:\"Courier New\", Courier, monospace !important;font-weight:normal;color:#fff;background-color:#26ADE4;border-style:solid;border-width:1px;overflow:hidden;word-break:normal;border-color:#DCDCDC;}\n",
       ".tg .tg-left{font-family:\"Courier New\", Courier, monospace !important;font-weight:normal;text-align:left;}\n",
       ".tg .tg-center{font-family:\"Courier New\", Courier, monospace !important;font-weight:normal;text-align:center;}\n",
       ".tg .tg-right{font-family:\"Courier New\", Courier, monospace !important;font-weight:normal;text-align:right;}\n",
       "</style>\n",
       "<table class=\"tg\"><tr><th><b>  rbf.       </b></th><th><b>value</b></th><th><b>constraints</b></th><th><b>priors</b></th></tr>\n",
       "<tr><td class=tg-left>  variance   </td><td class=tg-right>  1.0</td><td class=tg-center>    +ve    </td><td class=tg-center>      </td></tr>\n",
       "<tr><td class=tg-left>  lengthscale</td><td class=tg-right> 10.0</td><td class=tg-center>    +ve    </td><td class=tg-center>      </td></tr>\n",
       "</table>"
      ],
      "text/plain": [
       "<GPy.kern.src.rbf.RBF at 0x7ff449463fa0>"
      ]
     },
     "execution_count": 65,
     "metadata": {},
     "output_type": "execute_result"
    }
   ],
   "source": [
    "k = GPy.kern.RBF(input_dim=1,\n",
    "                 variance=1.,\n",
    "                 lengthscale=10.)\n",
    "k"
   ]
  },
  {
   "cell_type": "code",
   "execution_count": 66,
   "id": "eddb8758-698c-40a3-98af-e288c6bd28ba",
   "metadata": {},
   "outputs": [
    {
     "data": {
      "text/html": [
       "<style type=\"text/css\">\n",
       ".pd{\n",
       "    font-family: \"Courier New\", Courier, monospace !important;\n",
       "    width: 100%;\n",
       "    padding: 3px;\n",
       "}\n",
       "</style>\n",
       "\n",
       "<p class=pd>\n",
       "<b>Model</b>: GP regression<br>\n",
       "<b>Objective</b>: 264.5145842667812<br>\n",
       "<b>Number of Parameters</b>: 3<br>\n",
       "<b>Number of Optimization Parameters</b>: 3<br>\n",
       "<b>Updates</b>: True<br>\n",
       "</p>\n",
       "<style type=\"text/css\">\n",
       ".tg  {font-family:\"Courier New\", Courier, monospace !important;padding:2px 3px;word-break:normal;border-collapse:collapse;border-spacing:0;border-color:#DCDCDC;margin:0px auto;width:100%;}\n",
       ".tg td{font-family:\"Courier New\", Courier, monospace !important;font-weight:bold;color:#444;background-color:#F7FDFA;border-style:solid;border-width:1px;overflow:hidden;word-break:normal;border-color:#DCDCDC;}\n",
       ".tg th{font-family:\"Courier New\", Courier, monospace !important;font-weight:normal;color:#fff;background-color:#26ADE4;border-style:solid;border-width:1px;overflow:hidden;word-break:normal;border-color:#DCDCDC;}\n",
       ".tg .tg-left{font-family:\"Courier New\", Courier, monospace !important;font-weight:normal;text-align:left;}\n",
       ".tg .tg-center{font-family:\"Courier New\", Courier, monospace !important;font-weight:normal;text-align:center;}\n",
       ".tg .tg-right{font-family:\"Courier New\", Courier, monospace !important;font-weight:normal;text-align:right;}\n",
       "</style>\n",
       "<table class=\"tg\"><tr><th><b>  GP_regression.         </b></th><th><b>value</b></th><th><b>constraints</b></th><th><b>priors</b></th></tr>\n",
       "<tr><td class=tg-left>  rbf.variance           </td><td class=tg-right>  1.0</td><td class=tg-center>    +ve    </td><td class=tg-center>      </td></tr>\n",
       "<tr><td class=tg-left>  rbf.lengthscale        </td><td class=tg-right> 10.0</td><td class=tg-center>    +ve    </td><td class=tg-center>      </td></tr>\n",
       "<tr><td class=tg-left>  Gaussian_noise.variance</td><td class=tg-right>  1.0</td><td class=tg-center>    +ve    </td><td class=tg-center>      </td></tr>\n",
       "</table>"
      ],
      "text/plain": [
       "<GPy.models.gp_regression.GPRegression at 0x7ff449462710>"
      ]
     },
     "execution_count": 66,
     "metadata": {},
     "output_type": "execute_result"
    }
   ],
   "source": [
    "m = GPy.models.GPRegression(X, Y, k)\n",
    "m"
   ]
  },
  {
   "cell_type": "code",
   "execution_count": 67,
   "id": "4eda9cd1-99a3-4c69-8180-b669dfa4ef8e",
   "metadata": {},
   "outputs": [],
   "source": [
    "mu, var = m.predict(X_pred)"
   ]
  },
  {
   "cell_type": "code",
   "execution_count": 68,
   "id": "9f231fd8-f481-4b11-ac9f-d37418e87c32",
   "metadata": {},
   "outputs": [
    {
     "data": {
      "text/html": [
       "<div>\n",
       "<style scoped>\n",
       "    .dataframe tbody tr th:only-of-type {\n",
       "        vertical-align: middle;\n",
       "    }\n",
       "\n",
       "    .dataframe tbody tr th {\n",
       "        vertical-align: top;\n",
       "    }\n",
       "\n",
       "    .dataframe thead th {\n",
       "        text-align: right;\n",
       "    }\n",
       "</style>\n",
       "<table border=\"1\" class=\"dataframe\">\n",
       "  <thead>\n",
       "    <tr style=\"text-align: right;\">\n",
       "      <th></th>\n",
       "      <th>0</th>\n",
       "      <th>1</th>\n",
       "      <th>2</th>\n",
       "      <th>3</th>\n",
       "      <th>4</th>\n",
       "      <th>5</th>\n",
       "      <th>6</th>\n",
       "      <th>7</th>\n",
       "      <th>8</th>\n",
       "      <th>9</th>\n",
       "      <th>...</th>\n",
       "      <th>490</th>\n",
       "      <th>491</th>\n",
       "      <th>492</th>\n",
       "      <th>493</th>\n",
       "      <th>494</th>\n",
       "      <th>495</th>\n",
       "      <th>496</th>\n",
       "      <th>497</th>\n",
       "      <th>498</th>\n",
       "      <th>499</th>\n",
       "    </tr>\n",
       "  </thead>\n",
       "  <tbody>\n",
       "    <tr>\n",
       "      <th>mu</th>\n",
       "      <td>0.049292</td>\n",
       "      <td>0.054763</td>\n",
       "      <td>0.060772</td>\n",
       "      <td>0.067363</td>\n",
       "      <td>0.074585</td>\n",
       "      <td>0.082486</td>\n",
       "      <td>0.091122</td>\n",
       "      <td>0.100547</td>\n",
       "      <td>0.110821</td>\n",
       "      <td>0.122007</td>\n",
       "      <td>...</td>\n",
       "      <td>0.097011</td>\n",
       "      <td>0.088061</td>\n",
       "      <td>0.079846</td>\n",
       "      <td>0.072316</td>\n",
       "      <td>0.065422</td>\n",
       "      <td>0.059118</td>\n",
       "      <td>0.053361</td>\n",
       "      <td>0.048110</td>\n",
       "      <td>0.043326</td>\n",
       "      <td>0.038974</td>\n",
       "    </tr>\n",
       "    <tr>\n",
       "      <th>var</th>\n",
       "      <td>1.999930</td>\n",
       "      <td>1.999914</td>\n",
       "      <td>1.999894</td>\n",
       "      <td>1.999871</td>\n",
       "      <td>1.999843</td>\n",
       "      <td>1.999809</td>\n",
       "      <td>1.999769</td>\n",
       "      <td>1.999721</td>\n",
       "      <td>1.999663</td>\n",
       "      <td>1.999595</td>\n",
       "      <td>...</td>\n",
       "      <td>1.999601</td>\n",
       "      <td>1.999668</td>\n",
       "      <td>1.999725</td>\n",
       "      <td>1.999772</td>\n",
       "      <td>1.999812</td>\n",
       "      <td>1.999845</td>\n",
       "      <td>1.999873</td>\n",
       "      <td>1.999896</td>\n",
       "      <td>1.999915</td>\n",
       "      <td>1.999931</td>\n",
       "    </tr>\n",
       "  </tbody>\n",
       "</table>\n",
       "<p>2 rows × 500 columns</p>\n",
       "</div>"
      ],
      "text/plain": [
       "          0         1         2         3         4         5         6    \\\n",
       "mu   0.049292  0.054763  0.060772  0.067363  0.074585  0.082486  0.091122   \n",
       "var  1.999930  1.999914  1.999894  1.999871  1.999843  1.999809  1.999769   \n",
       "\n",
       "          7         8         9    ...       490       491       492  \\\n",
       "mu   0.100547  0.110821  0.122007  ...  0.097011  0.088061  0.079846   \n",
       "var  1.999721  1.999663  1.999595  ...  1.999601  1.999668  1.999725   \n",
       "\n",
       "          493       494       495       496       497       498       499  \n",
       "mu   0.072316  0.065422  0.059118  0.053361  0.048110  0.043326  0.038974  \n",
       "var  1.999772  1.999812  1.999845  1.999873  1.999896  1.999915  1.999931  \n",
       "\n",
       "[2 rows x 500 columns]"
      ]
     },
     "execution_count": 68,
     "metadata": {},
     "output_type": "execute_result"
    }
   ],
   "source": [
    "pd.concat([pd.DataFrame(mu.T, index=[\"mu\"]), pd.DataFrame(var.T, index=[\"var\"])], axis=0)"
   ]
  },
  {
   "cell_type": "code",
   "execution_count": 69,
   "id": "8cf85577-a936-40e5-adec-cc4fc51d7222",
   "metadata": {},
   "outputs": [
    {
     "data": {
      "text/plain": [
       "<paramz.optimization.optimization.opt_lbfgsb at 0x7ff4494619c0>"
      ]
     },
     "execution_count": 69,
     "metadata": {},
     "output_type": "execute_result"
    }
   ],
   "source": [
    "m.optimize(\"bfgs\", max_iters=200)"
   ]
  },
  {
   "cell_type": "code",
   "execution_count": 72,
   "id": "98905909-284b-4933-8204-8ccefddfa030",
   "metadata": {},
   "outputs": [
    {
     "data": {
      "text/html": [
       "<style type=\"text/css\">\n",
       ".pd{\n",
       "    font-family: \"Courier New\", Courier, monospace !important;\n",
       "    width: 100%;\n",
       "    padding: 3px;\n",
       "}\n",
       "</style>\n",
       "\n",
       "<p class=pd>\n",
       "<b>Model</b>: GP regression<br>\n",
       "<b>Objective</b>: 6.463043157160225<br>\n",
       "<b>Number of Parameters</b>: 3<br>\n",
       "<b>Number of Optimization Parameters</b>: 3<br>\n",
       "<b>Updates</b>: True<br>\n",
       "</p>\n",
       "<style type=\"text/css\">\n",
       ".tg  {font-family:\"Courier New\", Courier, monospace !important;padding:2px 3px;word-break:normal;border-collapse:collapse;border-spacing:0;border-color:#DCDCDC;margin:0px auto;width:100%;}\n",
       ".tg td{font-family:\"Courier New\", Courier, monospace !important;font-weight:bold;color:#444;background-color:#F7FDFA;border-style:solid;border-width:1px;overflow:hidden;word-break:normal;border-color:#DCDCDC;}\n",
       ".tg th{font-family:\"Courier New\", Courier, monospace !important;font-weight:normal;color:#fff;background-color:#26ADE4;border-style:solid;border-width:1px;overflow:hidden;word-break:normal;border-color:#DCDCDC;}\n",
       ".tg .tg-left{font-family:\"Courier New\", Courier, monospace !important;font-weight:normal;text-align:left;}\n",
       ".tg .tg-center{font-family:\"Courier New\", Courier, monospace !important;font-weight:normal;text-align:center;}\n",
       ".tg .tg-right{font-family:\"Courier New\", Courier, monospace !important;font-weight:normal;text-align:right;}\n",
       "</style>\n",
       "<table class=\"tg\"><tr><th><b>  GP_regression.         </b></th><th><b>              value</b></th><th><b>constraints</b></th><th><b>priors</b></th></tr>\n",
       "<tr><td class=tg-left>  rbf.variance           </td><td class=tg-right>  123.7237453626498</td><td class=tg-center>    +ve    </td><td class=tg-center>      </td></tr>\n",
       "<tr><td class=tg-left>  rbf.lengthscale        </td><td class=tg-right> 141.86365778520585</td><td class=tg-center>    +ve    </td><td class=tg-center>      </td></tr>\n",
       "<tr><td class=tg-left>  Gaussian_noise.variance</td><td class=tg-right>0.03681530369356689</td><td class=tg-center>    +ve    </td><td class=tg-center>      </td></tr>\n",
       "</table>"
      ],
      "text/plain": [
       "<GPy.models.gp_regression.GPRegression at 0x7ff449462710>"
      ]
     },
     "execution_count": 72,
     "metadata": {},
     "output_type": "execute_result"
    }
   ],
   "source": [
    "m"
   ]
  },
  {
   "cell_type": "code",
   "execution_count": 70,
   "id": "4f19ccf1-36a0-4544-9a4b-92b9a10c6159",
   "metadata": {},
   "outputs": [],
   "source": [
    "mu, var = m.predict(X_pred)"
   ]
  },
  {
   "cell_type": "code",
   "execution_count": 71,
   "id": "abafe95c-dd09-42cb-819e-1ad81f3e296a",
   "metadata": {},
   "outputs": [
    {
     "data": {
      "text/html": [
       "<div>\n",
       "<style scoped>\n",
       "    .dataframe tbody tr th:only-of-type {\n",
       "        vertical-align: middle;\n",
       "    }\n",
       "\n",
       "    .dataframe tbody tr th {\n",
       "        vertical-align: top;\n",
       "    }\n",
       "\n",
       "    .dataframe thead th {\n",
       "        text-align: right;\n",
       "    }\n",
       "</style>\n",
       "<table border=\"1\" class=\"dataframe\">\n",
       "  <thead>\n",
       "    <tr style=\"text-align: right;\">\n",
       "      <th></th>\n",
       "      <th>0</th>\n",
       "      <th>1</th>\n",
       "      <th>2</th>\n",
       "      <th>3</th>\n",
       "      <th>4</th>\n",
       "      <th>5</th>\n",
       "      <th>6</th>\n",
       "      <th>7</th>\n",
       "      <th>8</th>\n",
       "      <th>9</th>\n",
       "      <th>...</th>\n",
       "      <th>490</th>\n",
       "      <th>491</th>\n",
       "      <th>492</th>\n",
       "      <th>493</th>\n",
       "      <th>494</th>\n",
       "      <th>495</th>\n",
       "      <th>496</th>\n",
       "      <th>497</th>\n",
       "      <th>498</th>\n",
       "      <th>499</th>\n",
       "    </tr>\n",
       "  </thead>\n",
       "  <tbody>\n",
       "    <tr>\n",
       "      <th>mu</th>\n",
       "      <td>12.704943</td>\n",
       "      <td>12.687970</td>\n",
       "      <td>12.671040</td>\n",
       "      <td>12.654152</td>\n",
       "      <td>12.637307</td>\n",
       "      <td>12.620505</td>\n",
       "      <td>12.603747</td>\n",
       "      <td>12.587033</td>\n",
       "      <td>12.570364</td>\n",
       "      <td>12.553739</td>\n",
       "      <td>...</td>\n",
       "      <td>9.197328</td>\n",
       "      <td>9.187747</td>\n",
       "      <td>9.178099</td>\n",
       "      <td>9.168385</td>\n",
       "      <td>9.158604</td>\n",
       "      <td>9.148756</td>\n",
       "      <td>9.138841</td>\n",
       "      <td>9.128859</td>\n",
       "      <td>9.118810</td>\n",
       "      <td>9.108693</td>\n",
       "    </tr>\n",
       "    <tr>\n",
       "      <th>var</th>\n",
       "      <td>0.264451</td>\n",
       "      <td>0.258577</td>\n",
       "      <td>0.252824</td>\n",
       "      <td>0.247191</td>\n",
       "      <td>0.241675</td>\n",
       "      <td>0.236275</td>\n",
       "      <td>0.230988</td>\n",
       "      <td>0.225814</td>\n",
       "      <td>0.220749</td>\n",
       "      <td>0.215794</td>\n",
       "      <td>...</td>\n",
       "      <td>0.213356</td>\n",
       "      <td>0.218182</td>\n",
       "      <td>0.223114</td>\n",
       "      <td>0.228153</td>\n",
       "      <td>0.233301</td>\n",
       "      <td>0.238560</td>\n",
       "      <td>0.243931</td>\n",
       "      <td>0.249417</td>\n",
       "      <td>0.255018</td>\n",
       "      <td>0.260738</td>\n",
       "    </tr>\n",
       "  </tbody>\n",
       "</table>\n",
       "<p>2 rows × 500 columns</p>\n",
       "</div>"
      ],
      "text/plain": [
       "           0          1          2          3          4          5    \\\n",
       "mu   12.704943  12.687970  12.671040  12.654152  12.637307  12.620505   \n",
       "var   0.264451   0.258577   0.252824   0.247191   0.241675   0.236275   \n",
       "\n",
       "           6          7          8          9    ...       490       491  \\\n",
       "mu   12.603747  12.587033  12.570364  12.553739  ...  9.197328  9.187747   \n",
       "var   0.230988   0.225814   0.220749   0.215794  ...  0.213356  0.218182   \n",
       "\n",
       "          492       493       494       495       496       497       498  \\\n",
       "mu   9.178099  9.168385  9.158604  9.148756  9.138841  9.128859  9.118810   \n",
       "var  0.223114  0.228153  0.233301  0.238560  0.243931  0.249417  0.255018   \n",
       "\n",
       "          499  \n",
       "mu   9.108693  \n",
       "var  0.260738  \n",
       "\n",
       "[2 rows x 500 columns]"
      ]
     },
     "execution_count": 71,
     "metadata": {},
     "output_type": "execute_result"
    }
   ],
   "source": [
    "pd.concat([pd.DataFrame(mu.T, index=[\"mu\"]), pd.DataFrame(var.T, index=[\"var\"])], axis=0)"
   ]
  },
  {
   "cell_type": "code",
   "execution_count": null,
   "id": "08d5587b-f68a-46ab-a708-e3c4b97dc8ce",
   "metadata": {},
   "outputs": [],
   "source": []
  },
  {
   "cell_type": "code",
   "execution_count": null,
   "id": "9d9d8386-79b7-4d35-8b1a-173b3b28968b",
   "metadata": {},
   "outputs": [],
   "source": []
  },
  {
   "cell_type": "code",
   "execution_count": null,
   "id": "2ecc7a38-8102-4b30-915d-03684d026e1e",
   "metadata": {},
   "outputs": [],
   "source": []
  }
 ],
 "metadata": {
  "kernelspec": {
   "display_name": "Python 3 (ipykernel)",
   "language": "python",
   "name": "python3"
  },
  "language_info": {
   "codemirror_mode": {
    "name": "ipython",
    "version": 3
   },
   "file_extension": ".py",
   "mimetype": "text/x-python",
   "name": "python",
   "nbconvert_exporter": "python",
   "pygments_lexer": "ipython3",
   "version": "3.10.9"
  }
 },
 "nbformat": 4,
 "nbformat_minor": 5
}
